{
  "nbformat": 4,
  "nbformat_minor": 0,
  "metadata": {
    "colab": {
      "provenance": [],
      "authorship_tag": "ABX9TyOGN//imEvXswoDOzu9I6CD",
      "include_colab_link": true
    },
    "kernelspec": {
      "name": "python3",
      "display_name": "Python 3"
    },
    "language_info": {
      "name": "python"
    }
  },
  "cells": [
    {
      "cell_type": "markdown",
      "metadata": {
        "id": "view-in-github",
        "colab_type": "text"
      },
      "source": [
        "<a href=\"https://colab.research.google.com/github/Kinzakhan21/assign_4/blob/main/01_expressions.ipynb\" target=\"_parent\"><img src=\"https://colab.research.google.com/assets/colab-badge.svg\" alt=\"Open In Colab\"/></a>"
      ]
    },
    {
      "cell_type": "code",
      "execution_count": 3,
      "metadata": {
        "colab": {
          "base_uri": "https://localhost:8080/"
        },
        "id": "6wjLIVKfqW9j",
        "outputId": "f3869d03-71a5-4561-ea8a-dee3272219c8"
      },
      "outputs": [
        {
          "output_type": "stream",
          "name": "stdout",
          "text": [
            "01_dicesimulator.md\n",
            "die1 in main() starts as: 10\n",
            "Total of two dice: 7\n",
            "Total of two dice: 8\n",
            "Total of two dice: 11\n",
            "die1 in main() is: 10\n"
          ]
        }
      ],
      "source": [
        "import random\n",
        "print(\"01_dicesimulator.md\")\n",
        "\n",
        "def roll_dice():\n",
        "    die1: int = random.randint(1, 6)\n",
        "    die2: int = random.randint(1, 6)\n",
        "    total: int = die1 + die2\n",
        "    print(f'Total of two dice: {total}')\n",
        "\n",
        "def main():\n",
        "    die1: int = 10\n",
        "    print(\"die1 in main() starts as: \" + str(die1))\n",
        "    roll_dice()\n",
        "    roll_dice()\n",
        "    roll_dice()\n",
        "    print(\"die1 in main() is: \" + str(die1))\n",
        "\n",
        "if __name__ == \"__main__\":\n",
        "    main()\n",
        "\n"
      ]
    },
    {
      "cell_type": "code",
      "source": [
        "print(\"02_e=mc2.md\")\n",
        "\n",
        "def energy():\n",
        "  c:float = 299792458\n",
        "  m:float = float(input(\"Enter Kilos of mass: \"))\n",
        "  print(\"e=m*c^2\")\n",
        "  print(\"Mass = \" + str(m) + \"kg\")\n",
        "  print(\"C = \" +str(c) + \"m/s\")\n",
        "  print(\"e = \" + str(m * c ** 2) + \"jules\")\n",
        "\n",
        "if __name__ == \"__main__\":\n",
        "  energy()"
      ],
      "metadata": {
        "colab": {
          "base_uri": "https://localhost:8080/"
        },
        "id": "XiAN0jmeuexg",
        "outputId": "7267ea73-7bb6-4622-ab0c-48674a42f85d"
      },
      "execution_count": 4,
      "outputs": [
        {
          "output_type": "stream",
          "name": "stdout",
          "text": [
            "02_e=mc2.md\n",
            "Enter Kilos of mass: 450\n",
            "e=m*c^2\n",
            "Mass = 450.0kg\n",
            "C = 299792458m/s\n",
            "e = 4.0443983043156795e+19jules\n"
          ]
        }
      ]
    },
    {
      "cell_type": "code",
      "source": [
        "print(\"03_feet_to_inches.md\")\n",
        "\n",
        "inch: int = 12\n",
        "def foot():\n",
        "  feet:int = int(input(\"Enter feet and i will covert into inches. \"))\n",
        "  print(f'There are {inch * feet} inches in {feet} feet.')\n",
        "\n",
        "if __name__ == \"__main__\":\n",
        "  foot()"
      ],
      "metadata": {
        "colab": {
          "base_uri": "https://localhost:8080/"
        },
        "id": "OPQ53yVGxN3c",
        "outputId": "1eabb546-b342-41e1-ecdf-63b778bbc756"
      },
      "execution_count": 5,
      "outputs": [
        {
          "output_type": "stream",
          "name": "stdout",
          "text": [
            "03_feet_to_inches.md\n",
            "Enter feet and i will covert into inches. 10\n",
            "There are 120 inches in 10 feet.\n"
          ]
        }
      ]
    },
    {
      "cell_type": "code",
      "source": [
        "import math\n",
        "print(\"/04_pythagorean_theorem.md\")\n",
        "\n",
        "def triangle():\n",
        "  ab:float = float(input(\"Enter the length of the side ab\"))\n",
        "  ac:float = float(input(\"Enter the length of the side ac\"))\n",
        "  bc:float = math.sqrt(ab**2 + ac**2)\n",
        "  print(f'The length of bc (the hypothenuse is : {bc})')\n",
        "\n",
        "if __name__ == \"__main__\":\n",
        "  triangle()"
      ],
      "metadata": {
        "colab": {
          "base_uri": "https://localhost:8080/"
        },
        "id": "OsSboFXGyZZI",
        "outputId": "864ea9f6-81b0-43ea-c880-97bad6589c27"
      },
      "execution_count": 6,
      "outputs": [
        {
          "output_type": "stream",
          "name": "stdout",
          "text": [
            "/04_pythagorean_theorem.md\n",
            "Enter the length of the side ab4.9\n",
            "Enter the length of the side ac4\n",
            "The length of bc (the hypothenuse is : 6.325345840347388)\n"
          ]
        }
      ]
    },
    {
      "cell_type": "code",
      "source": [
        "print(\"/05_remainder_division.md\")\n",
        "\n",
        "def remainder():\n",
        "    num1: int = int(input(\"Enter an integer to be divided: \"))\n",
        "    num2: int = int(input(\"Enter an integer to be divided by: \"))\n",
        "\n",
        "    if num2 == 0:  # Prevent division by zero\n",
        "        print(\"Error: Division by zero is not allowed.\")\n",
        "        return\n",
        "\n",
        "    quotient: int = num1 // num2\n",
        "    remainder: int = num1 % num2\n",
        "    print(f'The result of the division is {quotient} with a remainder of {remainder}')\n",
        "\n",
        "if __name__ == \"__main__\":\n",
        "    remainder()\n"
      ],
      "metadata": {
        "colab": {
          "base_uri": "https://localhost:8080/"
        },
        "id": "5sl-Mtml6y05",
        "outputId": "68fa8b78-b120-4ebe-82a7-679b2e317c5b"
      },
      "execution_count": 16,
      "outputs": [
        {
          "output_type": "stream",
          "name": "stdout",
          "text": [
            "/05_remainder_division.md\n",
            "Enter an integer to be divided: 11\n",
            "Enter an integer to be divided by: 5\n",
            "The result of the division is 2 with a remainder of 1\n"
          ]
        }
      ]
    },
    {
      "cell_type": "code",
      "source": [
        "import random\n",
        "print(\"/06_rolldice.md\")\n",
        "\n",
        "def dice():\n",
        "  die1:int = random.randint(1,6)\n",
        "  die2:int = random.randint(1,6)\n",
        "  total: int = int(die1 + die2)\n",
        "  print(\"First die:\" + str(die1))\n",
        "  print(\"Second die:\" + str(die2))\n",
        "  print(f'Total of two dies: {total}')\n",
        "\n",
        "if __name__ == \"__main__\":\n",
        "  dice()\n",
        "\n",
        "\n",
        "\n"
      ],
      "metadata": {
        "colab": {
          "base_uri": "https://localhost:8080/"
        },
        "id": "HIihYP1j7F1N",
        "outputId": "f3d938e1-b794-4177-be7d-190923013da6"
      },
      "execution_count": 15,
      "outputs": [
        {
          "output_type": "stream",
          "name": "stdout",
          "text": [
            "/06_rolldice.md\n",
            "First die:6\n",
            "Second die:5\n",
            "Total of two dies: 11\n"
          ]
        }
      ]
    },
    {
      "cell_type": "code",
      "source": [
        "print(\"/06_seconds_in_year.md\")\n",
        "\n",
        "days_in_year:int = 365\n",
        "hours_per_day: int = 24\n",
        "mintes_per_minute:int = 60\n",
        "seconds_in_mintues:int = 60\n",
        "\n",
        "def seconds():\n",
        "  print(f'There are {days_in_year * mintes_per_minute * seconds_in_mintues} seconds in a year!')\n",
        "\n",
        "if __name__ == \"__main__\":\n",
        "  seconds()\n",
        "\n",
        "\n"
      ],
      "metadata": {
        "colab": {
          "base_uri": "https://localhost:8080/"
        },
        "id": "-sAIRRYm8wES",
        "outputId": "634ebed7-0385-4bea-dd96-573ff1aafd89"
      },
      "execution_count": 17,
      "outputs": [
        {
          "output_type": "stream",
          "name": "stdout",
          "text": [
            "/06_seconds_in_year.md\n",
            "There are 1314000 seconds in a year!\n"
          ]
        }
      ]
    },
    {
      "cell_type": "code",
      "source": [
        "print(\"/07_tiny_mad_lib.md\")\n",
        "\n",
        "def mad_lib():\n",
        "  noun:str = str(input(\"Enter a noun: \"))\n",
        "  adjective: str = str(input(\"Enter an adjective:\"))\n",
        "  verb: str = str(input(\"Enter a verb:\"))\n",
        "  print(f'Do you {verb} your {adjective} {noun} ?')\n",
        "\n",
        "if __name__ == \"__main__\":\n",
        "  mad_lib()\n",
        "\n",
        "\n",
        "\n"
      ],
      "metadata": {
        "colab": {
          "base_uri": "https://localhost:8080/"
        },
        "id": "x3ArzQ87-7WI",
        "outputId": "a75fe9c5-d950-45ba-d6e9-21fd4823edd0"
      },
      "execution_count": 18,
      "outputs": [
        {
          "output_type": "stream",
          "name": "stdout",
          "text": [
            "/07_tiny_mad_lib.md\n",
            "Enter a noun: cat\n",
            "Enter an adjective:cute\n",
            "Enter a verb:sleep\n",
            "Do you sleep your cute cat ?\n"
          ]
        }
      ]
    }
  ]
}