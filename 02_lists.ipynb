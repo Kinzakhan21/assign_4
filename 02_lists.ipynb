{
  "nbformat": 4,
  "nbformat_minor": 0,
  "metadata": {
    "colab": {
      "provenance": [],
      "authorship_tag": "ABX9TyOmLG3p0Bez2cTsgp59hlzm",
      "include_colab_link": true
    },
    "kernelspec": {
      "name": "python3",
      "display_name": "Python 3"
    },
    "language_info": {
      "name": "python"
    }
  },
  "cells": [
    {
      "cell_type": "markdown",
      "metadata": {
        "id": "view-in-github",
        "colab_type": "text"
      },
      "source": [
        "<a href=\"https://colab.research.google.com/github/Kinzakhan21/assign_4/blob/main/02_lists.ipynb\" target=\"_parent\"><img src=\"https://colab.research.google.com/assets/colab-badge.svg\" alt=\"Open In Colab\"/></a>"
      ]
    },
    {
      "cell_type": "code",
      "execution_count": null,
      "metadata": {
        "colab": {
          "base_uri": "https://localhost:8080/"
        },
        "id": "Y707Xne4GpLy",
        "outputId": "c423c59c-e86f-4263-a0b2-001dece0c0b3"
      },
      "outputs": [
        {
          "output_type": "stream",
          "name": "stdout",
          "text": [
            "01_add_many_number.md\n",
            "15\n"
          ]
        }
      ],
      "source": [
        "print(\"01_add_many_number.md\")\n",
        "\n",
        "def add_number(numbers) -> int:\n",
        "    num: int = 0\n",
        "    for i in numbers:\n",
        "        num += i\n",
        "    return num\n",
        "\n",
        "def main():\n",
        "    number: list[int] = [1, 2, 3, 4, 5]\n",
        "    total = add_number(number)\n",
        "    print(total)\n",
        "\n",
        "if __name__ == '__main__':\n",
        "  main()\n",
        "\n"
      ]
    },
    {
      "cell_type": "code",
      "source": [
        "print(\"02_double_list.md\")\n",
        "\n",
        "def main():\n",
        "    numbers: list[int] = [1, 2, 3, 4, 5]\n",
        "    for i in range(len(numbers)):\n",
        "        index = numbers[i]\n",
        "        numbers[i] = index * 2\n",
        "    print(numbers)\n",
        "\n",
        "if __name__ == '__main__':\n",
        "    main()\n"
      ],
      "metadata": {
        "colab": {
          "base_uri": "https://localhost:8080/"
        },
        "id": "AmAqITbbKN4x",
        "outputId": "d1786214-d6d0-4175-9f12-9fbfb824b241"
      },
      "execution_count": null,
      "outputs": [
        {
          "output_type": "stream",
          "name": "stdout",
          "text": [
            "02_double_list.md\n",
            "[2, 4, 6, 8, 10]\n"
          ]
        }
      ]
    },
    {
      "cell_type": "code",
      "source": [
        "print(\"04_flowing_with_data_structures.md\")\n",
        "\n",
        "def add_three_copies(lst,data):\n",
        "   for i in range(3):\n",
        "    lst.append(data)\n",
        "\n",
        "def main():\n",
        "  message = input(\"Enter a messsage to copy.\")\n",
        "  lst = []\n",
        "  print(\"Before list: \" ,lst)\n",
        "  add_three_copies(lst,message)\n",
        "  print(\"After lst: \", lst)\n",
        "\n",
        "if __name__ == '__main__':\n",
        "    main()"
      ],
      "metadata": {
        "colab": {
          "base_uri": "https://localhost:8080/"
        },
        "id": "Xb74ftsbQH-3",
        "outputId": "814be72f-61e7-4114-8c3e-e140b5c3a987"
      },
      "execution_count": null,
      "outputs": [
        {
          "output_type": "stream",
          "name": "stdout",
          "text": [
            "04_flowing_with_data_structures.md\n",
            "Enter a messsage to copy.kinza khan\n",
            "Before list:  []\n",
            "After lst:  ['kinza khan', 'kinza khan', 'kinza khan']\n"
          ]
        }
      ]
    },
    {
      "cell_type": "code",
      "source": [
        "print(\"05_get_first_element.md\")\n",
        "\n",
        "def get_first_element(lst):\n",
        "  print(lst[0])\n",
        "\n",
        "def get_lst():\n",
        "  lst = []\n",
        "  elem: str = input(\"Enter an element to add to the list.\")\n",
        "  while elem != \"\":\n",
        "    lst.append(elem)\n",
        "    elem = input(\"Enter an element to add to the list.\")\n",
        "  return lst\n",
        "\n",
        "def main():\n",
        "  lst = get_lst()\n",
        "  get_first_element(lst)\n",
        "\n",
        "if __name__ == '__main__':\n",
        "    main()\n"
      ],
      "metadata": {
        "colab": {
          "base_uri": "https://localhost:8080/"
        },
        "id": "39oXfdEASoLO",
        "outputId": "6826ab32-82ce-40d4-ce77-a5976a33e15d"
      },
      "execution_count": 12,
      "outputs": [
        {
          "output_type": "stream",
          "name": "stdout",
          "text": [
            "05_get_first_element.md\n",
            "Enter an element to add to the list.k\n",
            "Enter an element to add to the list.i\n",
            "Enter an element to add to the list.a\n",
            "Enter an element to add to the list.\n",
            "k\n"
          ]
        }
      ]
    },
    {
      "cell_type": "code",
      "source": [
        "print(\"06_get_last_element.md\")\n",
        "\n",
        "def get_last_element(lst):\n",
        "  print(lst[-1])\n",
        "\n",
        "def get_lst():\n",
        "  lst = []\n",
        "  elem: str = input(\"Enter an element to add to the list.\")\n",
        "  while elem != \"\":\n",
        "    lst.append(elem)\n",
        "    elem = input(\"Enter an element to add to the list.\")\n",
        "  return lst\n",
        "\n",
        "def main():\n",
        "  lst = get_lst()\n",
        "  get_last_element(lst)\n",
        "\n",
        "if __name__ == '__main__':\n",
        "    main()\n"
      ],
      "metadata": {
        "colab": {
          "base_uri": "https://localhost:8080/"
        },
        "id": "qH6cLZPlZHwk",
        "outputId": "47ac10c1-bc80-4ec5-b0e4-d3cd9e2b57fb"
      },
      "execution_count": 13,
      "outputs": [
        {
          "output_type": "stream",
          "name": "stdout",
          "text": [
            "06_get_last_element.md\n",
            "Enter an element to add to the list.k\n",
            "Enter an element to add to the list.y\n",
            "Enter an element to add to the list.s\n",
            "Enter an element to add to the list.a\n",
            "Enter an element to add to the list.\n",
            "a\n"
          ]
        }
      ]
    },
    {
      "cell_type": "code",
      "source": [
        "print(\"07_get_list.md\")\n",
        "\n",
        "def main():\n",
        "  lst = []\n",
        "  val = input(\"Enter a value to add to the list:\")\n",
        "  while val:\n",
        "    lst.append(val)\n",
        "    val = input(\"Enter a value to add to the list:\")\n",
        "  print(\"Here's the list: \" , lst)\n",
        "\n",
        "if __name__ == '__main__':\n",
        "    main()"
      ],
      "metadata": {
        "colab": {
          "base_uri": "https://localhost:8080/"
        },
        "id": "Y5D3D_RqZ7uk",
        "outputId": "e6912ebe-0403-48f1-e910-c60284397131"
      },
      "execution_count": 15,
      "outputs": [
        {
          "output_type": "stream",
          "name": "stdout",
          "text": [
            "07_get_list.md\n",
            "Enter a value to add to the list.ali\n",
            "Enter a value to add to the list.hamzah\n",
            "Enter a value to add to the list.sana\n",
            "Enter a value to add to the list.hoor\n",
            "Enter a value to add to the list.\n",
            "Here's the list:  ['ali', 'hamzah', 'sana', 'hoor']\n"
          ]
        }
      ]
    },
    {
      "cell_type": "code",
      "source": [
        "print(\"08_shorten.md\")\n",
        "\n",
        "MAX_LENGTH: int = 3\n",
        "\n",
        "def shorten(lst):\n",
        "  while len(lst) > MAX_LENGTH:\n",
        "    last_element = lst.pop()\n",
        "    print(last_element)\n",
        "  print(\"Final list:\", lst)\n",
        "\n",
        "def get_lst():\n",
        "  lst = []\n",
        "  element = input(\"Enter an element to add to the list:\")\n",
        "  while element != \"\":\n",
        "    lst.append(element)\n",
        "    element = input(\"Enter an element to add to the list:\")\n",
        "  return lst\n",
        "\n",
        "def main():\n",
        "  lst = get_lst()\n",
        "  shorten(lst)\n",
        "\n",
        "if __name__ == '__main__':\n",
        "    main()\n"
      ],
      "metadata": {
        "colab": {
          "base_uri": "https://localhost:8080/"
        },
        "id": "BxgIcpdLbPvo",
        "outputId": "da45f4ed-afac-45ad-be5c-7e726d7ac74f"
      },
      "execution_count": 22,
      "outputs": [
        {
          "output_type": "stream",
          "name": "stdout",
          "text": [
            "08_shorten.md\n",
            "Enter an element to add to the list:a\n",
            "Enter an element to add to the list:e\n",
            "Enter an element to add to the list:q\n",
            "Enter an element to add to the list:\n",
            "Final list: ['a', 'e', 'q']\n"
          ]
        }
      ]
    },
    {
      "cell_type": "code",
      "source": [],
      "metadata": {
        "id": "37eGhYiWgLQw"
      },
      "execution_count": null,
      "outputs": []
    }
  ]
}