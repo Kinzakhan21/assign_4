{
  "nbformat": 4,
  "nbformat_minor": 0,
  "metadata": {
    "colab": {
      "provenance": [],
      "authorship_tag": "ABX9TyMVeHJ0PGvey9A5MnuasUku",
      "include_colab_link": true
    },
    "kernelspec": {
      "name": "python3",
      "display_name": "Python 3"
    },
    "language_info": {
      "name": "python"
    }
  },
  "cells": [
    {
      "cell_type": "markdown",
      "metadata": {
        "id": "view-in-github",
        "colab_type": "text"
      },
      "source": [
        "<a href=\"https://colab.research.google.com/github/Kinzakhan21/assign_4/blob/main/00_intro_python.ipynb\" target=\"_parent\"><img src=\"https://colab.research.google.com/assets/colab-badge.svg\" alt=\"Open In Colab\"/></a>"
      ]
    },
    {
      "cell_type": "code",
      "execution_count": 6,
      "metadata": {
        "colab": {
          "base_uri": "https://localhost:8080/"
        },
        "id": "CbXxN3-zwXbj",
        "outputId": "19e746bc-2d33-4c4d-fd6a-fe5da8ee89ed"
      },
      "outputs": [
        {
          "output_type": "stream",
          "name": "stdout",
          "text": [
            "01_add_two_numbers.md\n",
            "This application is for adding two numbers\n",
            "Enter your first number: 10\n",
            "Enter your second number: 20\n",
            "The total sum of 10 and 20 is 30\n"
          ]
        }
      ],
      "source": [
        "print(\"01_add_two_numbers.md\")\n",
        "def add():\n",
        "    print(\"This application is for adding two numbers\")\n",
        "    first_numb = int(input(\"Enter your first number: \"))\n",
        "    second_numb = int(input(\"Enter your second number: \"))\n",
        "    total = first_numb + second_numb\n",
        "    print(f\"The total sum of {first_numb} and {second_numb} is {total}\")\n",
        "\n",
        "if __name__ == '__main__':\n",
        "    add()\n"
      ]
    },
    {
      "cell_type": "code",
      "source": [
        "print(\"02_agreement_bot.md\")\n",
        "\n",
        "def bot():\n",
        "    animal = input(\"What is your favorite animal? \")\n",
        "    print(f\"My favorite animal is also {animal}!\")\n",
        "\n",
        "if __name__ == '__main__':\n",
        "    bot()\n",
        "\n",
        "\n",
        "\n"
      ],
      "metadata": {
        "colab": {
          "base_uri": "https://localhost:8080/"
        },
        "id": "75wDIQ_szWez",
        "outputId": "129ed8ac-6c20-47af-d1c0-61a6f9f13035"
      },
      "execution_count": 14,
      "outputs": [
        {
          "output_type": "stream",
          "name": "stdout",
          "text": [
            "02_agreement_bot.md\n",
            "What is your favorite animal? cat\n",
            "My favorite animal is also cat!\n"
          ]
        }
      ]
    },
    {
      "cell_type": "code",
      "source": [
        "print(\"03_fahrenheit_to_celsius.md\")\n",
        "\n",
        "def temp():\n",
        "    print(\"This code is for converting Fahrenheit to Celsius\")\n",
        "    fahrenheit_degree = float(input(\"Enter temperature in Fahrenheit: \"))\n",
        "    celsius_degree = (fahrenheit_degree - 32) * 5.0 / 9.0\n",
        "    print(f'Temperature {fahrenheit_degree}°F = {celsius_degree:.2f}°C')\n",
        "\n",
        "if __name__ == '__main__':\n",
        "    temp()\n"
      ],
      "metadata": {
        "colab": {
          "base_uri": "https://localhost:8080/"
        },
        "id": "1VCqVRoq-yQw",
        "outputId": "5f7aac96-7c3d-449b-94ae-5927b4d929e2"
      },
      "execution_count": 18,
      "outputs": [
        {
          "output_type": "stream",
          "name": "stdout",
          "text": [
            "03_fahrenheit_to_celsius.md\n",
            "This code is for converting Fahrenheit to Celsius\n",
            "Enter temperature in Fahrenheit: 210\n",
            "Temperature 210.0°F = 98.89°C\n"
          ]
        }
      ]
    },
    {
      "cell_type": "code",
      "source": [
        "print(\"04_how_old_are_they.md\")\n",
        "\n",
        "def add_ages():\n",
        "  anthon:int = 21\n",
        "  beth:int = anthon + 6\n",
        "  chen:int = beth + 20\n",
        "  drew:int = chen + anthon\n",
        "  ethan:int = chen\n",
        "\n",
        "  print(\"Anthon is \" + str(anthon))\n",
        "  print(\"Beth is \" + str(beth))\n",
        "  print(\"Chen is \" + str(chen))\n",
        "  print(\"Drew is \" + str(drew))\n",
        "  print(\"Ethan  is \" + str(ethan))\n",
        "\n",
        "if __name__ == '__main__':\n",
        "    add_ages()\n",
        "\n"
      ],
      "metadata": {
        "colab": {
          "base_uri": "https://localhost:8080/"
        },
        "id": "DMCJ3Lq9656i",
        "outputId": "9539592c-7118-4354-aa71-c0137e41d14d"
      },
      "execution_count": 22,
      "outputs": [
        {
          "output_type": "stream",
          "name": "stdout",
          "text": [
            "04_how_old_are_they.md\n",
            "Anthon is 21\n",
            "Beth is 27\n",
            "Chen is 47\n",
            "Drew is 68\n",
            "Ethan  is 47\n"
          ]
        }
      ]
    },
    {
      "cell_type": "code",
      "source": [
        "print(\"05_triangle_perimeter.md\")\n",
        "\n",
        "def triangle():\n",
        "  print(\"This code is about perimeter  of triangle \")\n",
        "  side1:float = float(input(\"Enter your first side no of triangle.\"))\n",
        "  side2:float = float(input(\"Enter your second side no of triangle.\"))\n",
        "  side3:float = float(input(\"Enter your third side no of triangle.\"))\n",
        "  total:float = float(side1 + side2 +side3)\n",
        "  print(f'The perimeter of the triangle is {total}')\n",
        "\n",
        "if __name__==\"__main__\":\n",
        "  triangle()\n",
        "\n",
        "\n"
      ],
      "metadata": {
        "colab": {
          "base_uri": "https://localhost:8080/"
        },
        "id": "0bG04CgNE6Ky",
        "outputId": "26d1f692-6fbf-4376-b734-01b49b854f49"
      },
      "execution_count": 24,
      "outputs": [
        {
          "output_type": "stream",
          "name": "stdout",
          "text": [
            "05_triangle_perimeter.md\n",
            "This code is about perimeter  of triangle \n",
            "Enter your first side no of triangle.10\n",
            "Enter your second side no of triangle.5\n",
            "Enter your third side no of triangle.10.5\n",
            "The perimeter of the triangle is 25.5\n"
          ]
        }
      ]
    },
    {
      "cell_type": "code",
      "source": [
        "print(\"06_square_number.md\")\n",
        "\n",
        "def square():\n",
        "  print(\"This code is about square of given number\")\n",
        "  num1 = int(input(\"Enter any number and i will give u a square value. \"))\n",
        "  print(f'The square of {num1} is {num1 **2}')\n",
        "\n",
        "if __name__==\"__main__\":\n",
        "  square()\n"
      ],
      "metadata": {
        "colab": {
          "base_uri": "https://localhost:8080/"
        },
        "id": "cC4wknk-HwW-",
        "outputId": "b519d45d-5413-4922-ad5c-110988ff0a7f"
      },
      "execution_count": 27,
      "outputs": [
        {
          "output_type": "stream",
          "name": "stdout",
          "text": [
            "06_square_number.md\n",
            "This code is about square of given number\n",
            "Enter any number and i will give u a square value. 2\n",
            "The square of 2 is 4\n"
          ]
        }
      ]
    }
  ]
}