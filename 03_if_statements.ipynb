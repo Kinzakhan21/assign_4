{
  "nbformat": 4,
  "nbformat_minor": 0,
  "metadata": {
    "colab": {
      "provenance": [],
      "authorship_tag": "ABX9TyNpBmywWEi63o+9+odokS54",
      "include_colab_link": true
    },
    "kernelspec": {
      "name": "python3",
      "display_name": "Python 3"
    },
    "language_info": {
      "name": "python"
    }
  },
  "cells": [
    {
      "cell_type": "markdown",
      "metadata": {
        "id": "view-in-github",
        "colab_type": "text"
      },
      "source": [
        "<a href=\"https://colab.research.google.com/github/Kinzakhan21/assign_4/blob/main/03_if_statements.ipynb\" target=\"_parent\"><img src=\"https://colab.research.google.com/assets/colab-badge.svg\" alt=\"Open In Colab\"/></a>"
      ]
    },
    {
      "cell_type": "code",
      "execution_count": 7,
      "metadata": {
        "colab": {
          "base_uri": "https://localhost:8080/"
        },
        "id": "VuSeBAzSsb9N",
        "outputId": "070c3b53-f765-4722-e937-466bbb2e530e"
      },
      "outputs": [
        {
          "output_type": "stream",
          "name": "stdout",
          "text": [
            "01_print_events.md\n",
            "Here is 20 even numbers are :  0\n",
            "Here is 20 even numbers are :  2\n",
            "Here is 20 even numbers are :  4\n",
            "Here is 20 even numbers are :  6\n",
            "Here is 20 even numbers are :  8\n",
            "Here is 20 even numbers are :  10\n",
            "Here is 20 even numbers are :  12\n",
            "Here is 20 even numbers are :  14\n",
            "Here is 20 even numbers are :  16\n",
            "Here is 20 even numbers are :  18\n",
            "Here is 20 even numbers are :  20\n",
            "Here is 20 even numbers are :  22\n",
            "Here is 20 even numbers are :  24\n",
            "Here is 20 even numbers are :  26\n",
            "Here is 20 even numbers are :  28\n",
            "Here is 20 even numbers are :  30\n",
            "Here is 20 even numbers are :  32\n",
            "Here is 20 even numbers are :  34\n",
            "Here is 20 even numbers are :  36\n",
            "Here is 20 even numbers are :  38\n"
          ]
        }
      ],
      "source": [
        "print(\"01_print_events.md\")\n",
        "\n",
        "def even():\n",
        "  for i in range(20):\n",
        "    print(\"Here is 20 even numbers are : \", i * 2)\n",
        "\n",
        "if __name__ == '__main__':\n",
        "    even()\n"
      ]
    },
    {
      "cell_type": "code",
      "source": [
        "print(\"/02_international_voting_age.md\")\n",
        "\n",
        "Peturksbouipo: int = 16\n",
        "Stanlau: int = 25\n",
        "Mayengua: int = 48\n",
        "\n",
        "def main():\n",
        "  age: int = int(input(\"How old are you? \"))\n",
        "\n",
        "  # Peturksbouipo ke liye\n",
        "  if age >= Peturksbouipo:\n",
        "    print(f\"Your age is {age}. You are eligible to vote in Peturksbouipo!\")\n",
        "  else:\n",
        "    print(f\"Your age is {age}. You are not eligible to vote in Peturksbouipo!\")\n",
        "\n",
        "  # Stanlau ke liye\n",
        "  if age >= Stanlau:\n",
        "    print(f\"Your age is {age}. You are eligible to vote in Stanlau!\")\n",
        "  else:\n",
        "    print(f\"Your age is {age}. You are not eligible to vote in Stanlau!\")\n",
        "\n",
        "  # Mayengua ke liye\n",
        "  if age >= Mayengua:\n",
        "    print(f\"Your age is {age}. You are eligible to vote in Mayengua!\")\n",
        "  else:\n",
        "    print(f\"Your age is {age}. You are not eligible to vote in Mayengua!\")\n",
        "\n",
        "if __name__ == '__main__':\n",
        "    main()\n",
        ""
      ],
      "metadata": {
        "colab": {
          "base_uri": "https://localhost:8080/"
        },
        "id": "VmFONgZ3v9YG",
        "outputId": "8daeee83-0423-488e-a8b6-cc5d2a861401"
      },
      "execution_count": 11,
      "outputs": [
        {
          "output_type": "stream",
          "name": "stdout",
          "text": [
            "/02_international_voting_age.md\n",
            "How old are you? 45\n",
            "Your age is 45. You are eligible to vote in Peturksbouipo!\n",
            "Your age is 45. You are eligible to vote in Stanlau!\n",
            "Your age is 45. You are not eligible to vote in Mayengua!\n"
          ]
        }
      ]
    },
    {
      "cell_type": "code",
      "source": [
        "print(\"03_leap_year.md\")\n",
        "\n",
        "def leap_year():\n",
        "  year:int = int(input(\"Enter as year.\"))\n",
        "\n",
        "  if year % 4 ==0:\n",
        "    if year % 100 == 0:\n",
        "       if year % 400 == 0:\n",
        "        print(f'{year}is a leap year.')\n",
        "       else:\n",
        "        print(f\"{year}is  not a  leap year.\")\n",
        "    else:\n",
        "        print(f'{year}is not a  leap year.')\n",
        "  else:\n",
        "     print(f\"{year}is  not a leap year.\")\n",
        "\n",
        "if __name__ == '__main__':\n",
        "    leap_year()"
      ],
      "metadata": {
        "colab": {
          "base_uri": "https://localhost:8080/"
        },
        "id": "HzNPEF-l3FLi",
        "outputId": "ea55d2e8-272d-4486-fb8f-42d51ce71de9"
      },
      "execution_count": 15,
      "outputs": [
        {
          "output_type": "stream",
          "name": "stdout",
          "text": [
            "03_leap_year.md\n",
            "Enter as year.2035\n",
            "2035is  not a leap year.\n"
          ]
        }
      ]
    },
    {
      "cell_type": "code",
      "source": [
        "print(\"04_tall_enough_to_ride.m\")\n",
        "\n",
        "min_height:int = 50\n",
        "\n",
        "def main():\n",
        "  user:int = int(input(\"How  tall are you\"))\n",
        "  if user >= min_height:\n",
        "    print(\"you are tall enough to ride\")\n",
        "  else:\n",
        "    print(\"you are not tall enought to ride.May be next year.\")\n",
        "\n",
        "if __name__ == '__main__':\n",
        "    main()\n",
        "\n",
        "\n"
      ],
      "metadata": {
        "colab": {
          "base_uri": "https://localhost:8080/"
        },
        "id": "Ai02sr367afI",
        "outputId": "ee41c6e0-1770-463f-ca4f-ad93f1ca9d4a"
      },
      "execution_count": 16,
      "outputs": [
        {
          "output_type": "stream",
          "name": "stdout",
          "text": [
            "04_tall_enough_to_ride.m\n",
            "How  tall are you11\n",
            "you are not tall enought to ride.May be next year.\n"
          ]
        }
      ]
    },
    {
      "cell_type": "code",
      "source": [
        "import random\n",
        "print(\"05_random_numbers.md\")\n",
        "\n",
        "def main():\n",
        "  for i in range(10):\n",
        "    num:list[int] = random.randint(1,100)\n",
        "    print(num)\n",
        "\n",
        "if __name__ == '__main__':\n",
        "    main()"
      ],
      "metadata": {
        "colab": {
          "base_uri": "https://localhost:8080/"
        },
        "id": "mUWf7k0n8uGh",
        "outputId": "269b0462-a191-4e74-e4a9-56057808a64b"
      },
      "execution_count": 17,
      "outputs": [
        {
          "output_type": "stream",
          "name": "stdout",
          "text": [
            "05_random_numbers.md\n",
            "37\n",
            "74\n",
            "93\n",
            "67\n",
            "31\n",
            "37\n",
            "85\n",
            "100\n",
            "57\n",
            "90\n"
          ]
        }
      ]
    }
  ]
}